{
  "nbformat": 4,
  "nbformat_minor": 0,
  "metadata": {
    "kernelspec": {
      "display_name": "Python 3",
      "language": "python",
      "name": "python3"
    },
    "language_info": {
      "codemirror_mode": {
        "name": "ipython",
        "version": 3
      },
      "file_extension": ".py",
      "mimetype": "text/x-python",
      "name": "python",
      "nbconvert_exporter": "python",
      "pygments_lexer": "ipython3",
      "version": "3.8.5"
    },
    "colab": {
      "provenance": []
    }
  },
  "cells": [
    {
      "cell_type": "markdown",
      "metadata": {
        "id": "7oiQVQi0AJ6D"
      },
      "source": [
        "# <font color='Black'>Webscraping no </font> <font color='RED'> Youtube </font>\n",
        "\n",
        "### <font color='Grey'>Criando Máquinas Preditivas por meio de DADOS extraídos de Redes Sociais - PLN e ML</font>"
      ]
    },
    {
      "cell_type": "markdown",
      "metadata": {
        "id": "MO_zOCKXrTVR"
      },
      "source": [
        "#1° Problema de Negócio\n"
      ]
    },
    {
      "cell_type": "markdown",
      "metadata": {
        "id": "__r3zHXqfym7"
      },
      "source": []
    },
    {
      "cell_type": "markdown",
      "metadata": {
        "id": "p1TnLIy0mqTk"
      },
      "source": [
        "### Precisamos Criar uma Máquina Preditiva para **descobrir qual a categoria de um vídeo postado no Youtube por meio da Análise do seu Título.**"
      ]
    },
    {
      "cell_type": "markdown",
      "metadata": {
        "id": "fWc99c0im3FN"
      },
      "source": [
        "#2° Análise Exploratória dos Dados\n"
      ]
    },
    {
      "cell_type": "markdown",
      "metadata": {
        "id": "_5xVRndJ8lfY"
      },
      "source": [
        "##2° Faça o Download da API \"**chromedriver**\" de acordo com a respectiva a versão do seu Google Chrome, conforme abaixo:\n",
        "![](https://miro.medium.com/max/3750/1*2EFPAOgwteeRQcJC2JZMlw.png)"
      ]
    },
    {
      "cell_type": "markdown",
      "metadata": {
        "id": "CpMSDvHO8liK"
      },
      "source": [
        "##3° Vá até a pasta de downloads e **clique com o botão direito e descompacte** o arquivo selecionando a **opção Extrair aqui.**"
      ]
    },
    {
      "cell_type": "markdown",
      "metadata": {
        "id": "mAZwSpRU_kb5"
      },
      "source": [
        "##4° Abra o \"Terminal\" (nosso cmd do linux) e navegue até a pasta de \"Downloads\", digitando o comando abaixo:\n",
        "\n",
        "cd /home/~seu-usuario~/Downloads\n",
        "\n",
        "~seu-usuario~ aqui é o usuário que vc criou quando estava construindo a VM, hein? **Ai ai....eu te pego....**\n",
        "\n",
        "\n"
      ]
    },
    {
      "cell_type": "markdown",
      "metadata": {
        "id": "9gpOuTG8A2uQ"
      },
      "source": [
        "![](https://cienciadosdados.com/images/2021/linux_down.png)"
      ]
    },
    {
      "cell_type": "markdown",
      "metadata": {
        "id": "PYUHBNNE8lkw"
      },
      "source": [
        "##5° Digite a linha de comando abaixo:\n",
        "\n",
        "sudo mv chomedriver /usr/local/bin/\n",
        "\n",
        "\n"
      ]
    },
    {
      "cell_type": "markdown",
      "metadata": {
        "id": "PWrirBKA-ohL"
      },
      "source": [
        "![](https://cienciadosdados.com/images/2021/linux.png)"
      ]
    },
    {
      "cell_type": "code",
      "metadata": {
        "id": "XKN19dZxcrGk"
      },
      "source": [
        "# Instalação do Pacote para Webscraping\n",
        "!pip install selenium"
      ],
      "execution_count": null,
      "outputs": []
    },
    {
      "cell_type": "code",
      "metadata": {
        "id": "WQ2Pp8g1crGp"
      },
      "source": [
        "# Mapeamento de Pacotes\n",
        "from selenium import webdriver \n",
        "import pandas as pd \n",
        "from selenium.webdriver.common.by import By \n",
        "from selenium.webdriver.support.ui import WebDriverWait \n",
        "from selenium.webdriver.support import expected_conditions as EC"
      ],
      "execution_count": null,
      "outputs": []
    },
    {
      "cell_type": "code",
      "metadata": {
        "id": "2Hb_HDlZcrGq"
      },
      "source": [
        "# Escolhe a categoria Travel\n",
        "driver = webdriver.Chrome() \n",
        "driver.get(\"https://www.youtube.com/results?search_query=travel\")"
      ],
      "execution_count": null,
      "outputs": []
    },
    {
      "cell_type": "code",
      "metadata": {
        "id": "49EfpuZ4crGq"
      },
      "source": [
        "# Busca do nome do Vídeo por meio do Xpath\n",
        "user_data = driver.find_elements_by_xpath('//*[@id=\"video-title\"]')\n",
        "links = []\n",
        "for i in user_data:\n",
        "            links.append(i.get_attribute('href'))\n",
        "\n",
        "print(len(links))"
      ],
      "execution_count": null,
      "outputs": []
    },
    {
      "cell_type": "code",
      "metadata": {
        "id": "uHfiILy4crGr"
      },
      "source": [
        "# Criação da Tabela que vai receber os Vídeos da categoria TRAVEL\n",
        "df_travel = pd.DataFrame(columns = ['link', 'title', 'category'])"
      ],
      "execution_count": null,
      "outputs": []
    },
    {
      "cell_type": "code",
      "metadata": {
        "id": "6d31PC5ccrGr"
      },
      "source": [
        "# Fazendo o Scraping dos Dados\n",
        "wait = WebDriverWait(driver, 10)\n",
        "category = \"travel\"\n",
        "for x in links:\n",
        "            driver.get(x)\n",
        "            id = x.strip('https://www.youtube.com/watch?v=')\n",
        "            title = wait.until(EC.presence_of_element_located((By.CSS_SELECTOR,\"h1.title yt-formatted-string\"))).text\n",
        "            df_travel.loc[len(df_travel)] = [id, title, category]"
      ],
      "execution_count": null,
      "outputs": []
    },
    {
      "cell_type": "code",
      "metadata": {
        "id": "gxzWD3w0crGr"
      },
      "source": [
        "# Printando a Tabela\n",
        "df_travel"
      ],
      "execution_count": null,
      "outputs": []
    },
    {
      "cell_type": "code",
      "metadata": {
        "id": "_q-1GgGVcrGs"
      },
      "source": [
        "# Escolhe a categoria science\n",
        "driver = webdriver.Chrome() \n",
        "driver.get(\"https://www.youtube.com/results?search_query=science\")"
      ],
      "execution_count": null,
      "outputs": []
    },
    {
      "cell_type": "code",
      "metadata": {
        "id": "Hh69jPzHcrGs"
      },
      "source": [
        "# Busca do nome do Vídeo por meio do Xpath\n",
        "user_data = driver.find_elements_by_xpath('//*[@id=\"video-title\"]')\n",
        "links = []\n",
        "for i in user_data:\n",
        "            links.append(i.get_attribute('href'))\n",
        "\n",
        "print(len(links))"
      ],
      "execution_count": null,
      "outputs": []
    },
    {
      "cell_type": "code",
      "metadata": {
        "id": "zvJDuoxHcrGt"
      },
      "source": [
        "# Criação da Tabela que vai receber os Vídeos da categoria TRAVEL\n",
        "df_science = pd.DataFrame(columns = ['link', 'title', 'category'])"
      ],
      "execution_count": null,
      "outputs": []
    },
    {
      "cell_type": "code",
      "metadata": {
        "id": "dPqvSpxkcrGt"
      },
      "source": [
        "# Fazendo o Scraping dos Dados\n",
        "wait = WebDriverWait(driver, 10)\n",
        "category = \"science\"\n",
        "for x in links:\n",
        "            driver.get(x)\n",
        "            id = x.strip('https://www.youtube.com/watch?v=')\n",
        "            title = wait.until(EC.presence_of_element_located((By.CSS_SELECTOR,\"h1.title yt-formatted-string\"))).text\n",
        "            df_science.loc[len(df_science)] = [id, title, category]"
      ],
      "execution_count": null,
      "outputs": []
    },
    {
      "cell_type": "code",
      "metadata": {
        "id": "iJNSJOlBcrGt"
      },
      "source": [
        "# Printando a Tabela\n",
        "df_science"
      ],
      "execution_count": null,
      "outputs": []
    },
    {
      "cell_type": "code",
      "metadata": {
        "id": "HEGWYcG4crGt"
      },
      "source": [
        "# Concatenando as Tabelas das categorias \n",
        "frames = [df_travel, df_science]\n",
        "df_copy = pd.concat(frames, axis=0, join='outer',  ignore_index=True,\n",
        "                            keys=None, levels=None, names=None, verify_integrity=False, copy=True)"
      ],
      "execution_count": null,
      "outputs": []
    },
    {
      "cell_type": "code",
      "metadata": {
        "id": "9dm32XdkcrGu"
      },
      "source": [
        "# Printando a Tabela\n",
        "df_copy"
      ],
      "execution_count": null,
      "outputs": []
    },
    {
      "cell_type": "code",
      "metadata": {
        "id": "3rHocoxRcrGu"
      },
      "source": [
        "#Criando dataframes vazios\n",
        "df_link = pd.DataFrame(columns = [\"link\"])        \n",
        "df_title = pd.DataFrame(columns = [\"title\"])        \n",
        "df_category = pd.DataFrame(columns = [\"category\"])        \n"
      ],
      "execution_count": null,
      "outputs": []
    },
    {
      "cell_type": "code",
      "metadata": {
        "id": "7AgUsTm4crGu"
      },
      "source": [
        "df_link"
      ],
      "execution_count": null,
      "outputs": []
    },
    {
      "cell_type": "code",
      "metadata": {
        "id": "I0aUSpZUcrGu"
      },
      "source": [
        "#Preenchendo os dataframes\n",
        "df_link['link'] = df_copy['link'] \n",
        "df_title ['title']= df_copy['title'] \n",
        "df_category['category'] = df_copy['category']"
      ],
      "execution_count": null,
      "outputs": []
    },
    {
      "cell_type": "code",
      "metadata": {
        "id": "8-uHQKuzcrGv"
      },
      "source": [
        "#Verificando as dimensões da tabela\n",
        "df_title.shape"
      ],
      "execution_count": null,
      "outputs": []
    },
    {
      "cell_type": "markdown",
      "metadata": {
        "id": "9-_qOBMuI1Mz"
      },
      "source": [
        "#3° Pré-Processamento dos Dados"
      ]
    },
    {
      "cell_type": "markdown",
      "metadata": {
        "id": "SW5guIvBohQv"
      },
      "source": [
        "### **PLN - Processamento de Linguagem Natural**"
      ]
    },
    {
      "cell_type": "code",
      "metadata": {
        "id": "wftx5J1RcrGv"
      },
      "source": [
        "# Importando Pacotes de PLN\n",
        "import re \n",
        "import nltk \n",
        "nltk.download('stopwords') \n",
        "from nltk.corpus import stopwords \n",
        "from nltk.stem.porter import PorterStemmer"
      ],
      "execution_count": null,
      "outputs": []
    },
    {
      "cell_type": "code",
      "metadata": {
        "id": "zQvqnZlLcrGv"
      },
      "source": [
        "#Realizando a Mineração do Texto \n",
        "corpus = []        \n",
        "for i in range(0, 52):         \n",
        "  \n",
        "  review = re.sub('[^a-zA-Z]', ' ', df_title['title'][i]) #Removendo caracteres e pontuação           \n",
        "  review = review.lower()   # Transformando as letras todas em minúsculo         \n",
        "  review = review.split()   # Tokenizando pelo espaço entre palavras        \n",
        "  ps = PorterStemmer()      # Normalizando as palavras pelo radical      \n",
        "  review = [ps.stem(word) for word in review if not word in set(stopwords.words('english'))]  #Eliminando Stopwords          \n",
        "  review = ' '.join(review) # Juntando as palavras        \n",
        "  corpus.append(review)     # Salvando as palavras no Corpus"
      ],
      "execution_count": null,
      "outputs": []
    },
    {
      "cell_type": "code",
      "metadata": {
        "id": "_X1Vr1qocrGv"
      },
      "source": [
        "# Printado a tabela \n",
        "dftitle = pd.DataFrame({'title':corpus})"
      ],
      "execution_count": null,
      "outputs": []
    },
    {
      "cell_type": "markdown",
      "metadata": {
        "id": "VK6fc4qUsEZ2"
      },
      "source": [
        "###**Pré-Processamento Tradicional**"
      ]
    },
    {
      "cell_type": "markdown",
      "metadata": {
        "id": "_UyBy-5hsdic"
      },
      "source": [
        "![](https://blog.mackenzie.br/content/images/2020/09/giphy-1.gif)"
      ]
    },
    {
      "cell_type": "code",
      "metadata": {
        "id": "Qdcy0gRIcrGw"
      },
      "source": [
        "#Transformando palavras em números\n",
        "from sklearn.preprocessing import LabelEncoder\n",
        "dfcategory = df_category.apply(LabelEncoder().fit_transform)"
      ],
      "execution_count": null,
      "outputs": []
    },
    {
      "cell_type": "code",
      "metadata": {
        "id": "vP_jgMrZcrGw"
      },
      "source": [
        "# Criando novo dataframe \n",
        "df_new = pd.concat([df_link, dftitle, dfcategory], axis=1)\n"
      ],
      "execution_count": null,
      "outputs": []
    },
    {
      "cell_type": "code",
      "metadata": {
        "id": "MAJwzStocrGw"
      },
      "source": [
        "df_new"
      ],
      "execution_count": null,
      "outputs": []
    },
    {
      "cell_type": "code",
      "metadata": {
        "id": "O_jrK-zXcrGw"
      },
      "source": [
        "# Fazendo a contagem das palavras\n",
        "from sklearn.feature_extraction.text import CountVectorizer   \n",
        "cv = CountVectorizer(max_features = 1500) \n",
        "X = cv.fit_transform(corpus).toarray() \n",
        "y = df_new.iloc[:, 2].values"
      ],
      "execution_count": null,
      "outputs": []
    },
    {
      "cell_type": "code",
      "metadata": {
        "id": "0-yWQPnYcrGw"
      },
      "source": [
        "X"
      ],
      "execution_count": null,
      "outputs": []
    },
    {
      "cell_type": "code",
      "metadata": {
        "id": "p1kGmEqYcrGx"
      },
      "source": [
        "y"
      ],
      "execution_count": null,
      "outputs": []
    },
    {
      "cell_type": "code",
      "metadata": {
        "id": "2J47Fm-ecrGx"
      },
      "source": [
        "# Amostrando os dados em treino e teste\n",
        "from sklearn.model_selection import train_test_split\n",
        "X_train, X_test, y_train, y_test = train_test_split(X, y, test_size = 0.20, random_state = 0)"
      ],
      "execution_count": null,
      "outputs": []
    },
    {
      "cell_type": "markdown",
      "metadata": {
        "id": "C17poDU9m3KQ"
      },
      "source": [
        "#4° Construíndo a Máquina Preditiva \n"
      ]
    },
    {
      "cell_type": "markdown",
      "metadata": {
        "id": "S_AJXa_QeN20"
      },
      "source": [
        "### Machine Learning\n"
      ]
    },
    {
      "cell_type": "code",
      "metadata": {
        "id": "zQw6hMwacrGx"
      },
      "source": [
        "#Criando a Máquina Preditiva\n",
        "from sklearn.ensemble import RandomForestClassifier\n",
        "classifier = RandomForestClassifier(n_estimators = 1000, criterion = 'entropy')\n",
        "classifier.fit(X_train, y_train)\n",
        "y_pred = classifier.predict(X_test)"
      ],
      "execution_count": null,
      "outputs": []
    },
    {
      "cell_type": "markdown",
      "metadata": {
        "id": "RdMLL-Z6m3Mg"
      },
      "source": [
        "#5° Avaliação da Máquina Preditiva\n"
      ]
    },
    {
      "cell_type": "code",
      "metadata": {
        "id": "L1YVuwwScrGx"
      },
      "source": [
        "#Avaliando a Máquina Preditiva\n",
        "classifier.score(X_test, y_test)\n",
        "from sklearn.metrics import classification_report\n",
        " print(classification_report(y_test, y_pred))"
      ],
      "execution_count": null,
      "outputs": []
    }
  ]
}